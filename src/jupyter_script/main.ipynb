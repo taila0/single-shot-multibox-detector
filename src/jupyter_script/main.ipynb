{
 "cells": [
  {
   "cell_type": "markdown",
   "metadata": {},
   "source": [
    "# Generate Data set "
   ]
  },
  {
   "cell_type": "code",
   "execution_count": 3,
   "metadata": {},
   "outputs": [
    {
     "name": "stdout",
     "output_type": "stream",
     "text": [
      "\n",
      "Bad key \"text.kerning_factor\" on line 4 in\n",
      "/Users/seongjungkim/anaconda3/envs/python3/lib/python3.6/site-packages/matplotlib/mpl-data/stylelib/_classic_test_patch.mplstyle.\n",
      "You probably need to get an updated matplotlibrc file from\n",
      "http://github.com/matplotlib/matplotlib/blob/master/matplotlibrc.template\n",
      "or from the matplotlib source distribution\n",
      "100%|███████████████████████████████████████████| 3/3 [00:00<00:00, 1619.01it/s]\n",
      "100%|████████████████████████████████████| 11000/11000 [01:09<00:00, 158.50it/s]\n",
      "consume_time : 85.67403197288513\n",
      "transaction units : 128.39363044663727\n",
      "Finish generate detection dataset!\n"
     ]
    }
   ],
   "source": [
    "!python ../main_generate_dataset.py"
   ]
  },
  {
   "cell_type": "markdown",
   "metadata": {},
   "source": [
    "# Training Model"
   ]
  },
  {
   "cell_type": "code",
   "execution_count": null,
   "metadata": {},
   "outputs": [],
   "source": [
    "import sys\n",
    "sys.path.append('../')\n",
    "from model import simple_detection_netowrk\n",
    "import numpy as np\n",
    "import tensorflow as tf\n",
    "from tensorflow.keras.models import Model\n",
    "from tensorflow.keras.utils import to_categorical\n",
    "from loss import detection_loss, ssd_loss\n",
    "\n",
    "# load dataset\n",
    "train_xs = np.load('../datasets/true_images.npy')\n",
    "train_ys = np.load('../datasets/true_labels.npy')\n",
    "\n",
    "input_shape = train_xs.shape[1:]\n",
    "n_classes = 11\n",
    "train_ys_cls = train_ys[..., 4:]\n",
    "train_ys_cls = np.where(train_ys_cls == -1, 10, train_ys_cls)\n",
    "train_ys_cls = to_categorical(train_ys_cls, num_classes=11)\n",
    "train_ys = np.concatenate([train_ys[..., :4], train_ys_cls], axis=-1)\n",
    "\n",
    "# Generate detection SSD model\n",
    "n_boxes = 5\n",
    "inputs, predictions = simple_detection_netowrk(input_shape, n_boxes, n_classes)\n",
    "\n",
    "model = Model(inputs, predictions)\n",
    "model.compile('adam', loss=ssd_loss)\n",
    "\n",
    "pred_ = model.predict(train_xs)\n",
    "model.fit(x=train_xs, y=train_ys)\n"
   ]
  },
  {
   "cell_type": "code",
   "execution_count": null,
   "metadata": {},
   "outputs": [],
   "source": []
  }
 ],
 "metadata": {
  "kernelspec": {
   "display_name": "tf2",
   "language": "python",
   "name": "tf2"
  },
  "language_info": {
   "codemirror_mode": {
    "name": "ipython",
    "version": 3
   },
   "file_extension": ".py",
   "mimetype": "text/x-python",
   "name": "python",
   "nbconvert_exporter": "python",
   "pygments_lexer": "ipython3",
   "version": "3.7.7"
  }
 },
 "nbformat": 4,
 "nbformat_minor": 2
}
