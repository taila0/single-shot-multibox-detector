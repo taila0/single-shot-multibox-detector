{
 "cells": [
  {
   "cell_type": "code",
   "execution_count": 1,
   "metadata": {},
   "outputs": [],
   "source": [
    "import sys\n",
    "sys.path.append('../')"
   ]
  },
  {
   "cell_type": "code",
   "execution_count": 0,
   "metadata": {
    "colab": {},
    "colab_type": "code",
    "collapsed": true,
    "id": "YVjMqaRxq0qZ"
   },
   "outputs": [],
   "source": [
    "!rm -r ssd_object_detection\n",
    "!git clone https://github.com/pai-plznw4me/ssd_object_detection\n",
    "!pip install wget"
   ]
  },
  {
   "cell_type": "code",
   "execution_count": 0,
   "metadata": {
    "colab": {},
    "colab_type": "code",
    "collapsed": true,
    "id": "-bDOqhejq2HH"
   },
   "outputs": [],
   "source": [
    "import sys \n",
    "sys.path.append('./ssd_object_detection')\n",
    "from model import simple_detection_netowrk\n",
    "from tensorflow.python.keras.models import Model\n",
    "from tensorflow.keras.callbacks import ReduceLROnPlateau\n",
    "from tensorflow.keras.optimizers import Adam\n",
    "from prior import PriorBoxes\n",
    "from dataset import DetectionDataset\n",
    "from generator import DetectionGenerator\n",
    "from loss import SSDLoss\n",
    "\n",
    "\n",
    "# n_classes\n",
    "n_classes = 11 # with background\n",
    "n_anchors = 5\n",
    "image_shape = (128, 128)\n",
    "\n",
    "# Generate Detection Network\n",
    "inputs, pred = simple_detection_netowrk((128, 128, 3), n_anchors, n_classes)\n",
    "\n",
    "# Generate prior boxes\n",
    "strides = [4, 8, 16]\n",
    "scales = [10, 25, 40]\n",
    "ratios = [(1, 1),\n",
    "            (1.5, 0.5),\n",
    "            (1.2, 0.8),\n",
    "            (0.8, 1.2),\n",
    "            (1.4, 1.4)]\n",
    "prior = PriorBoxes(strides, scales, ratios)\n",
    "prior_boxes = prior.generate(image_shape)\n",
    "\n",
    "# Generate Dataset\n",
    "trainset = DetectionDataset(data_type='train')\n",
    "validset = DetectionDataset(data_type='validation')\n",
    "traingen = DetectionGenerator(trainset.config,\n",
    "                                prior.config,\n",
    "                                batch_size=64)\n",
    "validgen = DetectionGenerator(validset.config,\n",
    "                                prior.config,\n",
    "                                batch_size=64)\n",
    "# Define Loss\n",
    "ssd_loss = SSDLoss(1.0, 3.)\n",
    "\n",
    "# Training\n",
    "model = Model(inputs, pred)\n",
    "model.compile(Adam(1e-3),\n",
    "                loss=SSDLoss(1.0, 3.))\n",
    "\n",
    "rlrop = ReduceLROnPlateau(factor=0.1,\n",
    "                            min_lr=1e-6,\n",
    "                            patience=5,\n",
    "                            cooldown=3)\n",
    "callbacks = []\n",
    "callbacks.append(rlrop)\n",
    "model.fit_generator(traingen,\n",
    "                    epochs=50,\n",
    "                    validation_data=validgen,\n",
    "                    use_multiprocessing=True,\n",
    "                    workers=6,\n",
    "                    callbacks=callbacks)"
   ]
  },
  {
   "cell_type": "code",
   "execution_count": 0,
   "metadata": {
    "colab": {},
    "colab_type": "code",
    "collapsed": true,
    "id": "XVMAFCjkGtNQ"
   },
   "outputs": [],
   "source": [
    "\n",
    "def draw_rectangle(image, digits, color=(255,0,0), thickness=1):\n",
    "    \"\"\" 주어진 좌표값 Dataframe에 따라, image에 사각형을 그리는 메소드\n",
    "    \"\"\"\n",
    "    if isinstance(digits, np.ndarray):\n",
    "        if digits.shape[1] == 4:\n",
    "            digits = pd.DataFrame(digits, columns=['cx','cy','w','h'])\n",
    "        elif digits.shape[2] == 5:\n",
    "            digits = pd.DataFrame(digits, columns=['cx', 'cy', 'w', 'h','label'])\n",
    "\n",
    "    elif isinstance(digits, pd.DataFrame):\n",
    "        pass\n",
    "    else:\n",
    "        raise TypeError(\"digits은 numpy.ndarray 혹은 pandas.Dataframe으로 이루어져 있어야 합니다.\")\n",
    "\n",
    "    if image.max() <= 1.0:\n",
    "        image = (image * 255).astype(np.uint8)\n",
    "    else:\n",
    "        image = image.copy()\n",
    "    for idx, row in digits.iterrows():\n",
    "        xmin = row.cx - row.w / 2\n",
    "        xmax = row.cx + row.w / 2\n",
    "        ymin = row.cy - row.h / 2\n",
    "        ymax = row.cy + row.h / 2\n",
    "\n",
    "        start = tuple(np.array((xmin, ymin), dtype=np.int32))\n",
    "        end = tuple(np.array((xmax, ymax), dtype=np.int32))\n",
    "        image = cv2.rectangle(image, start, end, color, thickness)\n",
    "        if \"label\" in row:\n",
    "            cv2.putText(image, str(int(row.label)), start,\n",
    "                        cv2.FONT_HERSHEY_DUPLEX, 0.3, color)\n",
    "    return image\n"
   ]
  },
  {
   "cell_type": "code",
   "execution_count": 0,
   "metadata": {
    "colab": {},
    "colab_type": "code",
    "collapsed": true,
    "id": "eSmYxOdJrF89"
   },
   "outputs": [],
   "source": [
    "import numpy as np\n",
    "import pandas as pd\n",
    "import cv2 \n",
    "import matplotlib.pyplot as plt\n",
    "images, _ = validgen[0] # 이미지를 가져오기\n",
    "predictions = model.predict(images)\n",
    "\n",
    "idx=0\n",
    "pred_loc = predictions[idx,:,-4:]\n",
    "pred_clf = predictions[idx,:,:-4]\n",
    "pr_boxes = prior.generate(images[0].shape)\n",
    "\n",
    "# 원래의 bounding box로 복원하기\n",
    "res_cx = (pred_loc[:,0] \n",
    "          * pr_boxes[:,2] \n",
    "          + pr_boxes[:,0])\n",
    "res_cy = (pred_loc[:,1] \n",
    "          * pr_boxes[:,3] \n",
    "          + pr_boxes[:,1])\n",
    "res_w = (np.exp(pred_loc[:,2])\n",
    "         *pr_boxes[:,2])\n",
    "res_h = (np.exp(pred_loc[:,3])\n",
    "         *pr_boxes[:,3])\n",
    "\n",
    "restore_boxes = np.stack([res_cx,res_cy,res_w,res_h],\n",
    "                         axis=-1)\n",
    "\n",
    "# Background를 제외\n",
    "bg_index = pred_clf.shape[-1]-1\n",
    "fg_indices = np.argwhere(pred_clf.argmax(axis=1)!=bg_index)\n",
    "restore_boxes = restore_boxes[fg_indices].squeeze()\n",
    "\n",
    "pred_clf = pred_clf[fg_indices]\n",
    "pred_clf = pred_clf.max(axis=-1)\n",
    "pred_clf = pred_clf.squeeze()\n",
    "\n",
    "vis = draw_rectangle(images[idx],restore_boxes)\n",
    "plt.imshow(vis)\n",
    "plt.xticks([])\n",
    "plt.yticks([])    \n",
    "plt.show()        "
   ]
  },
  {
   "cell_type": "code",
   "execution_count": 0,
   "metadata": {
    "colab": {},
    "colab_type": "code",
    "collapsed": true,
    "id": "ib7nEpu2_CFo"
   },
   "outputs": [],
   "source": [
    "f"
   ]
  }
 ],
 "metadata": {
  "accelerator": "GPU",
  "colab": {
   "name": "ssd.ipynb",
   "private_outputs": true,
   "provenance": []
  },
  "kernelspec": {
   "display_name": "Python 3",
   "language": "python",
   "name": "python3"
  },
  "language_info": {
   "codemirror_mode": {
    "name": "ipython",
    "version": 3
   },
   "file_extension": ".py",
   "mimetype": "text/x-python",
   "name": "python",
   "nbconvert_exporter": "python",
   "pygments_lexer": "ipython3",
   "version": "3.6.9"
  }
 },
 "nbformat": 4,
 "nbformat_minor": 1
}
