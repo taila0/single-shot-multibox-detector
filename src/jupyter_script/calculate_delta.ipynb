{
 "cells": [
  {
   "cell_type": "code",
   "execution_count": 4,
   "metadata": {},
   "outputs": [],
   "source": [
    "import sys\n",
    "sys.path.append('../')"
   ]
  },
  {
   "cell_type": "code",
   "execution_count": 5,
   "metadata": {},
   "outputs": [],
   "source": [
    "from dataset import DetectionDataset\n",
    "from utils import plot_images\n",
    "from default_boxes import *\n",
    "from utils import xywh2xyxy, draw_rectangles, images_with_rectangles, xyxy2xywh\n",
    "import matplotlib.pyplot as plt\n",
    "from iou import calculate_iou\n",
    "from delta import calculate_delta, calculate_gt"
   ]
  },
  {
   "cell_type": "markdown",
   "metadata": {},
   "source": [
    "## 데이터 다운로드 "
   ]
  },
  {
   "cell_type": "code",
   "execution_count": 6,
   "metadata": {},
   "outputs": [],
   "source": [
    "# get sample image and object coordinates \n",
    "trainset = DetectionDataset(data_type='train')\n",
    "gt_img, gt_info = trainset[0]\n",
    "gt_coords = gt_info.iloc[:, 1:5].values\n",
    "gt_coords = xywh2xyxy(gt_coords)\n",
    "gt_labels = gt_info.iloc[:, -1].values"
   ]
  },
  {
   "cell_type": "markdown",
   "metadata": {},
   "source": [
    "## Generate Default Boxes \n",
    " - 지정된 크기와 비율에 맞는 default boxes 을 생성"
   ]
  },
  {
   "cell_type": "code",
   "execution_count": 7,
   "metadata": {},
   "outputs": [],
   "source": [
    "fmap = tf.constant(shape=(2, 8, 8, 2), value=1)\n",
    "h, w = fmap.get_shape()[1:3]\n",
    "n_layer = 11\n",
    "paddings = ['SAME'] * n_layer\n",
    "strides = [1, 1, 1, 1, 2, 1, 2, 1, 2, 1, 2]\n",
    "kernel_sizes = [3] * n_layer\n",
    "center_xy = original_rectangle_coords((h, w), kernel_sizes, strides, paddings)[:, :2]\n",
    "\n",
    "# get w, h\n",
    "scales = [30]\n",
    "ratios = [(1, 1),\n",
    "          (1.5, 0.5),\n",
    "          (1.2, 0.8),\n",
    "          (0.8, 1.2),\n",
    "          (1.4, 1.4)]\n",
    "\n",
    "# 적용할 default box 의 크기 \n",
    "boxes = generate_default_boxes(scales, ratios)\n",
    "\n",
    "# Get default boxes over feature map\n",
    "default_boxes = tiling_default_boxes(center_xy, boxes)\n",
    "default_boxes = xywh2xyxy(default_boxes)"
   ]
  },
  {
   "cell_type": "markdown",
   "metadata": {},
   "source": [
    "###  IOU 을 계산"
   ]
  },
  {
   "cell_type": "code",
   "execution_count": 8,
   "metadata": {},
   "outputs": [],
   "source": [
    "# default boxes \n",
    "default_boxes = default_boxes.reshape(-1, 4)\n",
    "\n",
    "# ground truth coordinates(x1, y1, x2, y2), shape = (N_obj, 4)\n",
    "gt_coords = gt_coords.reshape(-1, 4)\n",
    "\n",
    "# 각 obj 별 iou 을 구합니다. shape = (N_default_boxes, N_obj) \n",
    "ious = calculate_iou(xyxy2xywh(default_boxes), xyxy2xywh(gt_coords))"
   ]
  },
  {
   "cell_type": "markdown",
   "metadata": {},
   "source": [
    "### Matching Policy "
   ]
  },
  {
   "cell_type": "code",
   "execution_count": 9,
   "metadata": {},
   "outputs": [],
   "source": [
    "# iou 중 가장 overlay 비율이 큰 class을 선택합니다. \n",
    "# shape = (N_default_boxes, )\n",
    "max_overlay_cls = np.argmax(ious, axis=-1)\n",
    "\n",
    "# 모든 obj 에 대해 iou 가 0.5 이하이면 background class, -1로 지정합니다. \n",
    "background_mask = np.all(ious < 0.5, axis=-1)\n",
    "max_overlay_cls[background_mask] = -1\n",
    "\n",
    "# 기존의 정답 데이터에 [0, 0, 0, 0] 을 추가합니다. \n",
    "gt_with_bg = np.concatenate([gt_coords, np.array([[0, 0, 0, 0]])], axis=0)\n",
    "\n",
    "# 각 default boxes에 해당하는 ground truth 의 좌표값을 가져옵니다. \n",
    "true_reg = gt_with_bg[max_overlay_cls]"
   ]
  },
  {
   "cell_type": "markdown",
   "metadata": {},
   "source": [
    "### Delta 계산"
   ]
  },
  {
   "cell_type": "code",
   "execution_count": 10,
   "metadata": {},
   "outputs": [],
   "source": [
    "model_true_bboxes = gt_with_bg[max_overlay_cls]"
   ]
  },
  {
   "cell_type": "code",
   "execution_count": 11,
   "metadata": {
    "scrolled": true
   },
   "outputs": [],
   "source": [
    "pos_mask = np.all(true_reg, axis=-1)"
   ]
  },
  {
   "cell_type": "code",
   "execution_count": 12,
   "metadata": {},
   "outputs": [],
   "source": [
    "pos_ious_max = np.max(ious[np.any(ious > 0.5, axis=-1)], axis=-1)\n",
    "# change to xywh\n",
    "pos_true_bboxes = xyxy2xywh(model_true_bboxes[pos_mask])\n",
    "pos_default_boxes = xyxy2xywh(default_boxes[pos_mask])\n",
    "\n",
    "true_delta = calculate_delta(pos_default_boxes, pos_true_bboxes)"
   ]
  },
  {
   "cell_type": "markdown",
   "metadata": {},
   "source": [
    "### Ground Truth bbox 복원"
   ]
  },
  {
   "cell_type": "code",
   "execution_count": 13,
   "metadata": {},
   "outputs": [],
   "source": [
    "pos_true_bboxes_hat = calculate_gt(pos_default_boxes, true_delta)"
   ]
  },
  {
   "cell_type": "code",
   "execution_count": 14,
   "metadata": {
    "scrolled": true
   },
   "outputs": [],
   "source": [
    "np.testing.assert_almost_equal(pos_true_bboxes, pos_true_bboxes_hat)"
   ]
  }
 ],
 "metadata": {
  "kernelspec": {
   "display_name": "Python 3",
   "language": "python",
   "name": "python3"
  },
  "language_info": {
   "codemirror_mode": {
    "name": "ipython",
    "version": 3
   },
   "file_extension": ".py",
   "mimetype": "text/x-python",
   "name": "python",
   "nbconvert_exporter": "python",
   "pygments_lexer": "ipython3",
   "version": "3.6.9"
  }
 },
 "nbformat": 4,
 "nbformat_minor": 2
}
